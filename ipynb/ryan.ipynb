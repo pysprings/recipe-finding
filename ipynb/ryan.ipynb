{
 "metadata": {
  "name": "",
  "signature": "sha256:3a73abe90cb938e4068e768ee296e20838470fe955c3036ab2af84073f0fb049"
 },
 "nbformat": 3,
 "nbformat_minor": 0,
 "worksheets": [
  {
   "cells": [
    {
     "cell_type": "code",
     "collapsed": false,
     "input": [
      "import collections\n",
      "import requests"
     ],
     "language": "python",
     "metadata": {},
     "outputs": []
    },
    {
     "cell_type": "code",
     "collapsed": false,
     "input": [
      "Ingredient = collections.namedtuple(\"Ingredient\", \"name weight\")\n",
      "\n",
      "class IngredientList(object):\n",
      "    def __init__(self, ingredients):\n",
      "        self.ingredients = ingredients\n",
      "        \n",
      "    def __repr__(self):\n",
      "        return '<IngredientList : %s>' % self.ingredients"
     ],
     "language": "python",
     "metadata": {},
     "outputs": []
    },
    {
     "cell_type": "code",
     "collapsed": false,
     "input": [
      "params = {'app_id':'2b0b3871',\n",
      "          'app_key':'a8631ce0fea0c72a0d1bfdcdc59824ec',\n",
      "          'q':'snickerdoodle',\n",
      "          'to':'100',}"
     ],
     "language": "python",
     "metadata": {},
     "outputs": []
    },
    {
     "cell_type": "code",
     "collapsed": false,
     "input": [
      "result = requests.get('https://api.edamam.com/search', params=params)"
     ],
     "language": "python",
     "metadata": {},
     "outputs": []
    },
    {
     "cell_type": "code",
     "collapsed": false,
     "input": [
      "json = result.json()"
     ],
     "language": "python",
     "metadata": {},
     "outputs": []
    },
    {
     "cell_type": "code",
     "collapsed": false,
     "input": [
      "def key(hit):\n",
      "    return hit['recipe']['calories']/hit['recipe']['yield']"
     ],
     "language": "python",
     "metadata": {},
     "outputs": []
    },
    {
     "cell_type": "code",
     "collapsed": false,
     "input": [
      "sorted(json['hits'], key=key, reverse=True);"
     ],
     "language": "python",
     "metadata": {},
     "outputs": []
    },
    {
     "cell_type": "code",
     "collapsed": false,
     "input": [
      "recipes = []\n",
      "for hit in json['hits']:\n",
      "    print hit['recipe']"
     ],
     "language": "python",
     "metadata": {},
     "outputs": []
    },
    {
     "cell_type": "code",
     "collapsed": false,
     "input": [
      "counter = collections.Counter([\n",
      "         (ingredient['food'], ingredient['weight']/hit['recipe']['yield']) for hit in json['hits']\n",
      "                     for ingredient in hit['recipe']['ingredients']])"
     ],
     "language": "python",
     "metadata": {},
     "outputs": []
    },
    {
     "cell_type": "code",
     "collapsed": false,
     "input": [
      "d = collections.defaultdict(int)\n",
      "for (key, amount) in counter.elements():\n",
      "    d[key] += amount"
     ],
     "language": "python",
     "metadata": {},
     "outputs": []
    },
    {
     "cell_type": "code",
     "collapsed": false,
     "input": [
      "for key in set(t[0] for t in counter.keys()):\n",
      "    d[key] = d[key]/100.0"
     ],
     "language": "python",
     "metadata": {},
     "outputs": []
    },
    {
     "cell_type": "code",
     "collapsed": false,
     "input": [
      "for ingredient, amount in  sorted(d.items(), key=lambda s: s[1], reverse=True)[:15]:\n",
      "    print ingredient, ':', amount"
     ],
     "language": "python",
     "metadata": {},
     "outputs": []
    },
    {
     "cell_type": "code",
     "collapsed": false,
     "input": [],
     "language": "python",
     "metadata": {},
     "outputs": []
    }
   ],
   "metadata": {}
  }
 ]
}