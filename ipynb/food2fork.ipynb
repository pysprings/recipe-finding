{
 "metadata": {
  "name": "",
  "signature": "sha256:cfaf8ca8bd158d81e6aad70fc7f7c519c3d48fbc946625771299b65cdc4d4ca8"
 },
 "nbformat": 3,
 "nbformat_minor": 0,
 "worksheets": [
  {
   "cells": [
    {
     "cell_type": "code",
     "collapsed": false,
     "input": [
      "import requests"
     ],
     "language": "python",
     "metadata": {},
     "outputs": []
    },
    {
     "cell_type": "code",
     "collapsed": false,
     "input": [
      "api_key = '394c6244e849b9274ef6325cec54f959'\n",
      "api_base = 'http://food2fork.com/api/'\n",
      "seach_uri = '{}search?key={}&q={}'"
     ],
     "language": "python",
     "metadata": {},
     "outputs": []
    },
    {
     "cell_type": "code",
     "collapsed": false,
     "input": [
      "def get_recipe(recipe_id):\n",
      "    get_url = '{}/get?key={}&rId={}'.format(api_base, api_key, recipe_id)\n",
      "    r = requests.get(get_url)\n",
      "    return r.json()['recipe']"
     ],
     "language": "python",
     "metadata": {},
     "outputs": []
    },
    {
     "cell_type": "code",
     "collapsed": false,
     "input": [
      "def search_recipe(desired_recipe, ranking_type='r'):\n",
      "    if ranking_type not in ['r','t']:\n",
      "        raise Exception(\"ranking_type must be 'r' or 't'. got {}\".format(ranking_type))\n",
      "    search_url = '{}/search?key={}&q={}&sort={}'.format(api_base, api_key, desired_recipe, ranking_type)\n",
      "    r = requests.get(search_url)\n",
      "    if not r.ok:\n",
      "        raise Exception(\"error searching for {}: {}\".format(desired_recipe, r.test))\n",
      "    return r.json()\n",
      "    "
     ],
     "language": "python",
     "metadata": {},
     "outputs": []
    },
    {
     "cell_type": "code",
     "collapsed": false,
     "input": [
      "def get_popular_recipes(desired_recipe, ranking_type='r', num_results=1):\n",
      "    print(\"Finding the {} best recipes for '{}' based on {}\".format(num_results, desired_recipe, ranking_type))\n",
      "    search_results = search_recipe(desired_recipe, ranking_type)\n",
      "    for i in xrange(num_results):\n",
      "        recipe_id = search_results['recipes'][i]['recipe_id']\n",
      "        recipe = get_recipe(recipe_id)\n",
      "        print(\"Recipe #{}: {} ({})\".format(i+1, recipe['title'], recipe['publisher']))\n",
      "        print(\"  url: {}\".format(recipe['source_url']))\n",
      "        print(\"  ingredients:\")\n",
      "        for ingredient in recipe['ingredients']:\n",
      "            print(\"    {}\".format(ingredient))"
     ],
     "language": "python",
     "metadata": {},
     "outputs": []
    },
    {
     "cell_type": "code",
     "collapsed": false,
     "input": [
      "get_popular_recipes('snickerdoodle')"
     ],
     "language": "python",
     "metadata": {},
     "outputs": []
    },
    {
     "cell_type": "code",
     "collapsed": false,
     "input": [
      "recipe = get_recipe('23534')"
     ],
     "language": "python",
     "metadata": {},
     "outputs": []
    }
   ],
   "metadata": {}
  }
 ]
}